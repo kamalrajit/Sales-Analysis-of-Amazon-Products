{
 "cells": [
  {
   "cell_type": "code",
   "execution_count": null,
   "id": "435e9dbf",
   "metadata": {
    "scrolled": true
   },
   "outputs": [],
   "source": [
    "import glob\n",
    "import os\n",
    "import numpy as np\n",
    "import pandas as pd\n",
    "import matplotlib.pyplot as plt\n",
    "import seaborn as sns\n",
    "\n",
    "from plotly.offline import init_notebook_mode, iplot\n",
    "init_notebook_mode(connected=True)\n",
    "import plotly.graph_objs as go\n",
    "import plotly.express as px\n",
    "\n",
    "from sklearn.preprocessing import MinMaxScaler\n",
    "from sklearn.model_selection import train_test_split\n",
    "from keras.models import Sequential\n",
    "from keras.layers import LSTM, Dropout, Dense"
   ]
  },
  {
   "cell_type": "markdown",
   "id": "a64231fc",
   "metadata": {},
   "source": [
    "##### Workflow of the project\n",
    "\n",
    "1. Concatenating multiple files into a single dataframe\n",
    "2. Feature Engineering\n",
    "3. Data Visualization using Plotly Library\n",
    "4. Forecasting the Revenue for the next year using LSTM"
   ]
  },
  {
   "cell_type": "markdown",
   "id": "90055b8e",
   "metadata": {},
   "source": [
    "##### Questions to deal with:\n",
    "\n",
    "1. Most Quantity Ordered Products\n",
    "2. Orders Per Month\n",
    "3. Orders Per City\n",
    "4. Top 10 High Revenue Generating Products\n",
    "5. Least 5 Revenue Generating Products\n",
    "6. Revenue Generated Monthly\n",
    "7. Revenue generated City-wise\n",
    "8. Expected Approximate Revenue for the Next Year, month-wise"
   ]
  },
  {
   "cell_type": "code",
   "execution_count": null,
   "id": "8d610d8a",
   "metadata": {},
   "outputs": [],
   "source": [
    "# Concatenating all files using glob library\n",
    "\n",
    "joined_files = os.path.join(\"Sales*.csv\")\n",
    "\n",
    "joined_list = glob.glob(joined_files)\n",
    "\n",
    "df = pd.concat(map(pd.read_csv, joined_list), ignore_index=True)"
   ]
  },
  {
   "cell_type": "code",
   "execution_count": null,
   "id": "907a0d90",
   "metadata": {},
   "outputs": [],
   "source": [
    "# Def function for dataframe details:\n",
    "\n",
    "def check_df(dataframe, head=5):\n",
    "    print(\" SHAPE \".center(70,'-'))\n",
    "    print('Rows: {}'.format(dataframe.shape[0]))\n",
    "    print('Columns: {}'.format(dataframe.shape[1]))\n",
    "    print(\" TYPES \".center(70,'-'))\n",
    "    print(dataframe.dtypes)\n",
    "    print(\" HEAD \".center(70,'-'))\n",
    "    print(dataframe.head(head))\n",
    "    print(\" TAIL \".center(70,'-'))\n",
    "    print(dataframe.tail(head))\n",
    "    print(\" MISSING VALUES \".center(70,'-'))\n",
    "    print(dataframe.isnull().sum())\n",
    "    print(\" DUPLICATED VALUES \".center(70,'-'))\n",
    "    print(dataframe.duplicated().sum())\n",
    "    print(\" DESCRIBE \".center(70,'-'))\n",
    "    print(dataframe.describe())\n",
    "\n",
    "check_df(df)"
   ]
  },
  {
   "cell_type": "code",
   "execution_count": null,
   "id": "451d2254",
   "metadata": {},
   "outputs": [],
   "source": [
    "# Dropping Null Values\n",
    "\n",
    "df = df.dropna(how='all')"
   ]
  },
  {
   "cell_type": "code",
   "execution_count": null,
   "id": "48956472",
   "metadata": {},
   "outputs": [],
   "source": [
    "# Value Counts\n",
    "\n",
    "df['Quantity Ordered'].value_counts()"
   ]
  },
  {
   "cell_type": "code",
   "execution_count": null,
   "id": "bc55e8c7",
   "metadata": {},
   "outputs": [],
   "source": [
    "# Value Counts\n",
    "\n",
    "df['Price Each'].value_counts()"
   ]
  },
  {
   "cell_type": "code",
   "execution_count": null,
   "id": "ad893407",
   "metadata": {},
   "outputs": [],
   "source": [
    "# Dropping rows with unnecessary values from the features\n",
    "\n",
    "df.drop(df[df['Quantity Ordered'] == 'Quantity Ordered'].index, inplace = True)\n",
    "df.drop(df[df['Price Each'] == 'Price Each'].index, inplace = True)"
   ]
  },
  {
   "cell_type": "code",
   "execution_count": null,
   "id": "b6af6073",
   "metadata": {},
   "outputs": [],
   "source": [
    "# Converting the datatypes to int and float of respective features\n",
    "\n",
    "df['Quantity Ordered'] = df['Quantity Ordered'].astype(int)\n",
    "df['Price Each'] = df['Price Each'].astype(float)"
   ]
  },
  {
   "cell_type": "code",
   "execution_count": null,
   "id": "b057a269",
   "metadata": {},
   "outputs": [],
   "source": [
    "# Converting Feature into Datetime feature\n",
    "\n",
    "df['Order Date'] = pd.to_datetime(df['Order Date'])"
   ]
  },
  {
   "cell_type": "code",
   "execution_count": null,
   "id": "63f51ace",
   "metadata": {},
   "outputs": [],
   "source": [
    "# Extracting City from the Address for ease of Analysis\n",
    "\n",
    "df['City'] = df['Purchase Address'].str.split(',', expand = True)[1]"
   ]
  },
  {
   "cell_type": "code",
   "execution_count": null,
   "id": "9386f782",
   "metadata": {},
   "outputs": [],
   "source": [
    "# Creating new feature 'Revenue', which is Selling Price * Quantity\n",
    "\n",
    "df['Revenue'] = df['Quantity Ordered'] * df['Price Each']"
   ]
  },
  {
   "cell_type": "code",
   "execution_count": null,
   "id": "abec3a5c",
   "metadata": {},
   "outputs": [],
   "source": [
    "# Extracting date, month, quarter from datetime feature\n",
    "\n",
    "df['Date'] = df['Order Date'].dt.date\n",
    "df['Month'] = df['Order Date'].dt.month\n",
    "df['Quarter'] = df['Order Date'].dt.quarter"
   ]
  },
  {
   "cell_type": "code",
   "execution_count": null,
   "id": "0f1afec3",
   "metadata": {},
   "outputs": [],
   "source": [
    "# Mapping Month names for the feature\n",
    "\n",
    "df['Month'] = df['Month'].map({1:'Jan', 2:'Feb', 3:'Mar', 4:'Apr', 5:'May', 6:'June',\n",
    "                              7:'July', 8:'Aug', 9:'Sep', 10:'Oct', 11:'Nov', 12:'Dec'})"
   ]
  },
  {
   "cell_type": "code",
   "execution_count": null,
   "id": "907947d1",
   "metadata": {},
   "outputs": [],
   "source": [
    "df.head()"
   ]
  },
  {
   "cell_type": "code",
   "execution_count": null,
   "id": "c60d45a5",
   "metadata": {},
   "outputs": [],
   "source": [
    "df.dtypes"
   ]
  },
  {
   "cell_type": "markdown",
   "id": "01d8c5f1",
   "metadata": {},
   "source": [
    "### Exploratory Data Analysis"
   ]
  },
  {
   "cell_type": "markdown",
   "id": "b6876c74",
   "metadata": {},
   "source": [
    "### Most Quantity Ordered Products"
   ]
  },
  {
   "cell_type": "code",
   "execution_count": null,
   "id": "fa156b73",
   "metadata": {},
   "outputs": [],
   "source": [
    "quantity_ordered = df.groupby('Product')['Quantity Ordered'].sum().sort_values(ascending=False).reset_index()\n",
    "\n",
    "fig1 = px.bar(quantity_ordered, x='Product', y='Quantity Ordered', text = 'Quantity Ordered',\n",
    "             hover_data=['Product', 'Quantity Ordered'], color='Quantity Ordered')\n",
    "fig1.update_traces(texttemplate='%{text:.2s}', textposition='outside')\n",
    "fig1.update_layout(uniformtext_minsize=8, uniformtext_mode='hide')\n",
    "fig1.update_layout(title_text='Most Ordered Products')\n",
    "\n",
    "fig1.show()"
   ]
  },
  {
   "cell_type": "markdown",
   "id": "2eec3f13",
   "metadata": {},
   "source": [
    "### Orders Per Month"
   ]
  },
  {
   "cell_type": "code",
   "execution_count": null,
   "id": "92059048",
   "metadata": {},
   "outputs": [],
   "source": [
    "order_per_month = df.groupby('Month')['Order ID'].nunique().reset_index()\n",
    "\n",
    "colors = ['lightslategray',] * 12\n",
    "colors[2] = 'crimson'\n",
    "\n",
    "fig2 = go.Figure(data=[go.Bar(\n",
    "    x= order_per_month['Month'],\n",
    "    y= order_per_month['Order ID'],\n",
    "    text = order_per_month['Order ID'],\n",
    "    marker_color=colors\n",
    ")])\n",
    "fig2.update_traces(texttemplate=\"%{text:.2s}\", textposition='outside')\n",
    "fig2.update_layout(uniformtext_minsize=2, uniformtext_mode='hide')\n",
    "fig2.update_layout(title_text='Highest Orders in a Month')"
   ]
  },
  {
   "cell_type": "markdown",
   "id": "281486f9",
   "metadata": {},
   "source": [
    "### Orders Per City"
   ]
  },
  {
   "cell_type": "code",
   "execution_count": null,
   "id": "db0a3dd9",
   "metadata": {
    "scrolled": false
   },
   "outputs": [],
   "source": [
    "order_per_city = df.groupby('City')['Order ID'].nunique().reset_index()\n",
    "\n",
    "colors = ['lightslategray',] * 12\n",
    "colors[7] = 'crimson'\n",
    "\n",
    "fig3 = go.Figure(data=[go.Bar(\n",
    "    x= order_per_city['City'],\n",
    "    y= order_per_city['Order ID'],\n",
    "    text = order_per_city['Order ID'],\n",
    "    marker_color=colors\n",
    ")])\n",
    "fig3.update_traces(texttemplate=\"%{text:.2s}\", textposition='outside')\n",
    "fig3.update_layout(uniformtext_minsize=2, uniformtext_mode='hide')\n",
    "fig3.update_layout(title_text='Highest Orders Per City')"
   ]
  },
  {
   "cell_type": "markdown",
   "id": "febb3346",
   "metadata": {},
   "source": [
    "### Top 10 High Revenue Generating Products"
   ]
  },
  {
   "cell_type": "code",
   "execution_count": null,
   "id": "7ec4e2d6",
   "metadata": {},
   "outputs": [],
   "source": [
    "high_revenue_products = df.groupby('Product')['Revenue'].sum().sort_values(ascending=False).head(10).reset_index()\n",
    "\n",
    "fig4 = px.line(df, x='Product', y='Revenue', color='Product', markers=True, hover_data='Revenue')\n",
    "fig4.update_layout(title = \"Top Revenue Generated Products\")\n",
    "fig4.show()"
   ]
  },
  {
   "cell_type": "markdown",
   "id": "9ed19452",
   "metadata": {},
   "source": [
    "### Least 5 Revenue Generating Products"
   ]
  },
  {
   "cell_type": "code",
   "execution_count": null,
   "id": "67ad38b3",
   "metadata": {
    "scrolled": false
   },
   "outputs": [],
   "source": [
    "least_revenue_products = df.groupby('Product')['Revenue'].sum().sort_values(ascending =True).tail(5).reset_index()\n",
    "\n",
    "fig5 = px.bar(least_revenue_products, x = 'Product', y = 'Revenue')\n",
    "fig5.update_layout(title=\"Least 5 Revenue Generated Products\")\n",
    "fig5.show()"
   ]
  },
  {
   "cell_type": "markdown",
   "id": "c37fcdeb",
   "metadata": {},
   "source": [
    "### Revenue Generated Monthly"
   ]
  },
  {
   "cell_type": "code",
   "execution_count": null,
   "id": "130547ce",
   "metadata": {},
   "outputs": [],
   "source": [
    "monthly_revenue = df.groupby('Month')['Revenue'].sum().sort_values(ascending=False).reset_index()\n",
    "\n",
    "labels = monthly_revenue['Month']\n",
    "values = monthly_revenue['Revenue']\n",
    "\n",
    "fig6 = go.Figure(data=[go.Pie(labels=labels, values=values, text = monthly_revenue['Revenue'], pull=[0.2, 0, 0, 0])])\n",
    "fig6.update_traces(texttemplate=\"%{text:.2s}\", textfont_size=15, textposition='outside',\n",
    "                  marker=dict(line=dict(color='#000000', width=2)))\n",
    "fig6.update_layout(title_text='Revenue Generated Monthly')"
   ]
  },
  {
   "cell_type": "markdown",
   "id": "8253487e",
   "metadata": {},
   "source": [
    "### Revenue generated City-wise"
   ]
  },
  {
   "cell_type": "code",
   "execution_count": null,
   "id": "42b9157e",
   "metadata": {},
   "outputs": [],
   "source": [
    "revenue_city = df.groupby('City')['Revenue'].sum().sort_values(ascending=False).reset_index()\n",
    "\n",
    "fig7 = px.scatter(revenue_city, x=\"Revenue\", y=\"City\",\n",
    "                 size=\"Revenue\", color=\"City\",\n",
    "                 hover_name=\"City\", log_x=False, size_max=70)\n",
    "fig7.update_layout(title = 'Scatter of Revenue by City')\n",
    "fig7.show()"
   ]
  },
  {
   "cell_type": "markdown",
   "id": "b2fad060",
   "metadata": {},
   "source": [
    "### Products based on its price"
   ]
  },
  {
   "cell_type": "code",
   "execution_count": null,
   "id": "fb67cc2f",
   "metadata": {},
   "outputs": [],
   "source": [
    "product_price = df.groupby('Product')['Price Each'].max().sort_values(ascending=False).head().reset_index()\n",
    "product_price"
   ]
  },
  {
   "cell_type": "code",
   "execution_count": null,
   "id": "3a3ecc87",
   "metadata": {},
   "outputs": [],
   "source": [
    "fig8 = px.histogram(df, x = 'Revenue', y = 'Quantity Ordered', color = 'City', marginal=\"box\",\n",
    "                  hover_data = df.columns)\n",
    "fig8.show()"
   ]
  },
  {
   "cell_type": "markdown",
   "id": "8300fd03",
   "metadata": {},
   "source": [
    "### Important Takeaways from the Analysis\n",
    "\n",
    "##### 1. AAA Batteries is the most ordered product(31,017), followed by AA Batteries(27,635) and USB-C Charging Cable(23,975)\n",
    "##### 2. December has the Highest Orders (24,004), followed by October(19,436)\n",
    "##### 3. December has Highest Revenue of 4.6 Million, followed by October (3.7 Million) and April (3.4 Million)\n",
    "##### 4. San Francisco has Highest Orders(42, 898)\n",
    "##### 5. San Francisco has generated the Most Revenue of 8.2 Million, followed by Los Angeles(5.4 Million)\n",
    "##### 6. Highest Revenue Generated Product are electronics -> Macbook Pro Laptop, iPhone, ThinkPad Laptop, Google Phone\n",
    "##### 7. Least Revenue Generated Product are Lighting Chargin Cable, USB-C Charging Cable, Wired Headphones, AA Batteries"
   ]
  },
  {
   "cell_type": "markdown",
   "id": "67d22e48",
   "metadata": {},
   "source": [
    "### Revenue Forecasting"
   ]
  },
  {
   "cell_type": "code",
   "execution_count": null,
   "id": "0608a2db",
   "metadata": {},
   "outputs": [],
   "source": [
    "# Converting feature into datetime format\n",
    "\n",
    "df['Date'] = pd.to_datetime(df['Date'])"
   ]
  },
  {
   "cell_type": "code",
   "execution_count": null,
   "id": "a5231cc8",
   "metadata": {},
   "outputs": [],
   "source": [
    "# Creating a dataframe with only Date and Revenue features\n",
    "# Setting the new dataframe with date index\n",
    "\n",
    "new_df = df.groupby('Date')['Revenue'].sum().reset_index()\n",
    "new_df['Date'] = pd.to_datetime(new_df['Date'])\n",
    "new_df.set_index('Date', inplace =True)"
   ]
  },
  {
   "cell_type": "code",
   "execution_count": null,
   "id": "10c4834c",
   "metadata": {},
   "outputs": [],
   "source": [
    "new_df"
   ]
  },
  {
   "cell_type": "code",
   "execution_count": null,
   "id": "1afb70bf",
   "metadata": {},
   "outputs": [],
   "source": [
    "revenue_data = new_df['Revenue'].values"
   ]
  },
  {
   "cell_type": "code",
   "execution_count": null,
   "id": "0700b2f1",
   "metadata": {},
   "outputs": [],
   "source": [
    "# Data scaling\n",
    "scaler = MinMaxScaler()\n",
    "revenue_data_scaled = scaler.fit_transform(revenue_data.reshape(-1, 1))"
   ]
  },
  {
   "cell_type": "code",
   "execution_count": null,
   "id": "faee7024",
   "metadata": {},
   "outputs": [],
   "source": [
    "# Prepare sequences of past time steps and corresponding target values\n",
    "def prepare_sequences(data, n_steps):\n",
    "    X, y = [], []\n",
    "    for i in range(len(data) - n_steps):\n",
    "        X.append(data[i:i + n_steps])\n",
    "        y.append(data[i + n_steps])\n",
    "    return np.array(X), np.array(y)"
   ]
  },
  {
   "cell_type": "code",
   "execution_count": null,
   "id": "0480ec55",
   "metadata": {},
   "outputs": [],
   "source": [
    "n_steps = 30  # Number of past time steps to use for predictions\n",
    "x_new, y_new = prepare_sequences(revenue_data_scaled, n_steps)"
   ]
  },
  {
   "cell_type": "code",
   "execution_count": null,
   "id": "fb2fb624",
   "metadata": {},
   "outputs": [],
   "source": [
    "# Splitting the data into train and test sets\n",
    "x_train, x_test, y_train, y_test = train_test_split(x_new, y_new, test_size=30, shuffle=False)\n",
    "\n",
    "# Reshape the data to fit the LSTM model (samples, timesteps, features)\n",
    "x_train = x_train.reshape(x_train.shape[0], x_train.shape[1], 1)\n",
    "x_test = x_test.reshape(x_test.shape[0], x_test.shape[1], 1)"
   ]
  },
  {
   "cell_type": "code",
   "execution_count": null,
   "id": "c641b8c7",
   "metadata": {},
   "outputs": [],
   "source": [
    "# Build the LSTM model\n",
    "model = Sequential()\n",
    "model.add(LSTM(units=150, return_sequences=True, input_shape=(x_train.shape[1], 1)))\n",
    "model.add(Dropout(0.2))\n",
    "model.add(LSTM(units=50, return_sequences=True))\n",
    "model.add(Dropout(0.2))\n",
    "model.add(LSTM(units=50))\n",
    "model.add(Dropout(0.2))\n",
    "model.add(Dense(units=1))"
   ]
  },
  {
   "cell_type": "code",
   "execution_count": null,
   "id": "ea53f409",
   "metadata": {},
   "outputs": [],
   "source": [
    "# Compile the model\n",
    "model.compile(optimizer='adam', loss='mean_squared_error')"
   ]
  },
  {
   "cell_type": "code",
   "execution_count": null,
   "id": "2dcc4b42",
   "metadata": {
    "scrolled": true
   },
   "outputs": [],
   "source": [
    "# Train the model\n",
    "model.fit(x_train, y_train, epochs=100, batch_size=32, validation_data=(x_test, y_test))"
   ]
  },
  {
   "cell_type": "code",
   "execution_count": null,
   "id": "c85eed08",
   "metadata": {},
   "outputs": [],
   "source": [
    "# Forecast for the next 12 months\n",
    "future_data_scaled = revenue_data_scaled[-n_steps:].reshape(1, n_steps, 1)  # Use the last n_steps as input for forecasting\n",
    "future_data = []"
   ]
  },
  {
   "cell_type": "code",
   "execution_count": null,
   "id": "b49b7ad6",
   "metadata": {},
   "outputs": [],
   "source": [
    "for _ in range(12):\n",
    "    prediction = model.predict(future_data_scaled)\n",
    "    future_data_scaled = np.append(future_data_scaled[:, 1:, :], prediction.reshape(1, 1, 1), axis=1)\n",
    "    future_data.append(prediction[0, 0])"
   ]
  },
  {
   "cell_type": "code",
   "execution_count": null,
   "id": "cae79a7c",
   "metadata": {},
   "outputs": [],
   "source": [
    "# Inverse transform the scaled data to get the actual revenue values\n",
    "forecasted_revenue = scaler.inverse_transform(np.array(future_data).reshape(-1, 1))"
   ]
  },
  {
   "cell_type": "code",
   "execution_count": null,
   "id": "f67b5856",
   "metadata": {},
   "outputs": [],
   "source": [
    "# Create a DataFrame to store the forecasted values with the appropriate datetime index\n",
    "forecast_dates = pd.date_range('2020-01-02', periods=12, freq='M')\n",
    "forecast_df = pd.DataFrame(forecasted_revenue, index=forecast_dates, columns=['revenue_forecast'])"
   ]
  },
  {
   "cell_type": "code",
   "execution_count": null,
   "id": "93c2c25c",
   "metadata": {},
   "outputs": [],
   "source": [
    "# Print the forecasted DataFrame\n",
    "print(forecast_df)"
   ]
  },
  {
   "cell_type": "code",
   "execution_count": null,
   "id": "9b9b8f87",
   "metadata": {},
   "outputs": [],
   "source": []
  }
 ],
 "metadata": {
  "kernelspec": {
   "display_name": "Python 3 (ipykernel)",
   "language": "python",
   "name": "python3"
  },
  "language_info": {
   "codemirror_mode": {
    "name": "ipython",
    "version": 3
   },
   "file_extension": ".py",
   "mimetype": "text/x-python",
   "name": "python",
   "nbconvert_exporter": "python",
   "pygments_lexer": "ipython3",
   "version": "3.11.4"
  }
 },
 "nbformat": 4,
 "nbformat_minor": 5
}
